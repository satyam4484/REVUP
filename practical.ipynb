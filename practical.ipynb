{
  "nbformat": 4,
  "nbformat_minor": 0,
  "metadata": {
    "colab": {
      "provenance": []
    },
    "kernelspec": {
      "name": "python3",
      "display_name": "Python 3"
    },
    "language_info": {
      "name": "python"
    }
  },
  "cells": [
    {
      "cell_type": "code",
      "execution_count": 1,
      "metadata": {
        "id": "MEfrUu6Icg2A"
      },
      "outputs": [],
      "source": [
        "import numpy as np\n",
        "from tensorflow import keras\n",
        "from tensorflow.keras.datasets import imdb\n",
        "from tensorflow.keras.models import Sequential\n",
        "from tensorflow.keras.layers import Dense, Dropout, Embedding, GlobalAveragePooling1D\n",
        "from tensorflow.keras.preprocessing import sequence\n"
      ]
    },
    {
      "cell_type": "code",
      "source": [
        "(x_train, y_train), (x_test, y_test) = imdb.load_data(num_words=10000)"
      ],
      "metadata": {
        "colab": {
          "base_uri": "https://localhost:8080/"
        },
        "id": "EXH95bmrckL_",
        "outputId": "f699dcc6-2664-48f3-d63c-40c285bb391f"
      },
      "execution_count": 2,
      "outputs": [
        {
          "output_type": "stream",
          "name": "stdout",
          "text": [
            "Downloading data from https://storage.googleapis.com/tensorflow/tf-keras-datasets/imdb.npz\n",
            "17464789/17464789 [==============================] - 0s 0us/step\n"
          ]
        }
      ]
    },
    {
      "cell_type": "code",
      "source": [
        "\n",
        "max_words = 500\n",
        "x_train = sequence.pad_sequences(x_train, maxlen=max_words)\n",
        "x_test = sequence.pad_sequences(x_test, maxlen=max_words)\n",
        "\n"
      ],
      "metadata": {
        "id": "iYlAUqsmcw4V"
      },
      "execution_count": 8,
      "outputs": []
    },
    {
      "cell_type": "code",
      "source": [
        "embedding_size = 32\n",
        "model = Sequential()\n",
        "model.add(Embedding(10000, embedding_size, input_length=max_words))\n",
        "model.add(GlobalAveragePooling1D())\n",
        "model.add(Dense(64, activation='relu'))\n",
        "model.add(Dropout(0.5))\n",
        "model.add(Dense(1, activation='sigmoid'))\n"
      ],
      "metadata": {
        "id": "B2VkF5GqdRPF"
      },
      "execution_count": 4,
      "outputs": []
    },
    {
      "cell_type": "code",
      "source": [
        "model.compile(loss='binary_crossentropy', optimizer='adam', metrics=['accuracy'])\n",
        "batch_size = 64\n",
        "epochs = 10\n",
        "model.fit(x_train, y_train, batch_size=batch_size, epochs=epochs, validation_data=(x_test, y_test))\n"
      ],
      "metadata": {
        "colab": {
          "base_uri": "https://localhost:8080/"
        },
        "id": "TnnA6sWBdTPX",
        "outputId": "6c74c784-87c3-459c-a3ac-55284eb56e4e"
      },
      "execution_count": 5,
      "outputs": [
        {
          "output_type": "stream",
          "name": "stdout",
          "text": [
            "Epoch 1/10\n",
            "391/391 [==============================] - 7s 15ms/step - loss: 0.6056 - accuracy: 0.6899 - val_loss: 0.4158 - val_accuracy: 0.8508\n",
            "Epoch 2/10\n",
            "391/391 [==============================] - 5s 13ms/step - loss: 0.3269 - accuracy: 0.8732 - val_loss: 0.2992 - val_accuracy: 0.8817\n",
            "Epoch 3/10\n",
            "391/391 [==============================] - 5s 13ms/step - loss: 0.2482 - accuracy: 0.9063 - val_loss: 0.2779 - val_accuracy: 0.8879\n",
            "Epoch 4/10\n",
            "391/391 [==============================] - 6s 15ms/step - loss: 0.2101 - accuracy: 0.9219 - val_loss: 0.2749 - val_accuracy: 0.8893\n",
            "Epoch 5/10\n",
            "391/391 [==============================] - 5s 13ms/step - loss: 0.1789 - accuracy: 0.9381 - val_loss: 0.2839 - val_accuracy: 0.8879\n",
            "Epoch 6/10\n",
            "391/391 [==============================] - 6s 16ms/step - loss: 0.1611 - accuracy: 0.9438 - val_loss: 0.2924 - val_accuracy: 0.8869\n",
            "Epoch 7/10\n",
            "391/391 [==============================] - 5s 13ms/step - loss: 0.1443 - accuracy: 0.9524 - val_loss: 0.3049 - val_accuracy: 0.8852\n",
            "Epoch 8/10\n",
            "391/391 [==============================] - 7s 17ms/step - loss: 0.1303 - accuracy: 0.9576 - val_loss: 0.3249 - val_accuracy: 0.8816\n",
            "Epoch 9/10\n",
            "391/391 [==============================] - 5s 12ms/step - loss: 0.1161 - accuracy: 0.9625 - val_loss: 0.3477 - val_accuracy: 0.8784\n",
            "Epoch 10/10\n",
            "391/391 [==============================] - 5s 13ms/step - loss: 0.1049 - accuracy: 0.9682 - val_loss: 0.3713 - val_accuracy: 0.8726\n"
          ]
        },
        {
          "output_type": "execute_result",
          "data": {
            "text/plain": [
              "<keras.callbacks.History at 0x7f63834062f0>"
            ]
          },
          "metadata": {},
          "execution_count": 5
        }
      ]
    },
    {
      "cell_type": "code",
      "source": [
        "scores = model.evaluate(x_test, y_test, verbose=0)\n",
        "print(\"Test accuracy:\", scores[1])\n"
      ],
      "metadata": {
        "colab": {
          "base_uri": "https://localhost:8080/"
        },
        "id": "8EqkWLvYdVLy",
        "outputId": "bb6e2ef3-1380-432c-b4d3-1dc2dbbec0af"
      },
      "execution_count": 6,
      "outputs": [
        {
          "output_type": "stream",
          "name": "stdout",
          "text": [
            "Test accuracy: 0.8726400136947632\n"
          ]
        }
      ]
    },
    {
      "cell_type": "code",
      "source": [],
      "metadata": {
        "id": "DT4OlPTHdZ-h"
      },
      "execution_count": null,
      "outputs": []
    }
  ]
}